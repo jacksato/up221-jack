version https://git-lfs.github.com/spec/v1
oid sha256:8199b2296849aef4d410c1f8c9e9427864a3fb585ceb5621783cfdf92695e786
size 48239
